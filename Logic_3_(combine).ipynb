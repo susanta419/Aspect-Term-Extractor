{
 "cells": [
  {
   "cell_type": "code",
   "execution_count": 45,
   "metadata": {},
   "outputs": [],
   "source": [
    "# Import libraries\n",
    "import xml.etree.ElementTree as ET #parse xml file\n",
    "import pandas as pd "
   ]
  },
  {
   "attachments": {
    "image.png": {
     "image/png": "[encoded data removed]"
    }
   },
   "cell_type": "markdown",
   "metadata": {},
   "source": [
    "## Approach:  Logic 1 + Logic 2\n",
    "> **Step-1:** Parse train and test xml file and extract all the review text and aspect terms <br>\n",
    "<br>\n",
    "> **Step-2:** Create domain product aspect(train_aspect): Already given in training data<br>\n",
    "<br>\n",
    "> **Step-3:** Extracting aspect terms using syntactic dependencies of words in a sentence.(only for test data)<br>\n",
    "- **What syntactical relations should be exploited?**<br>\n",
    "- > I use Stanford CoreNLP tool.The following grammatical dependencies are used to extract and construct the aspect opinion phrases inside a short sentence.I just explain few of them. The Stanford typed dependencies manual explains very well the grammatical representations used below.<br>\n",
    "<br> \n",
    "> In order to end-up with aspect phrases, first, basic patterns are extracted:<br> \n",
    "<br> **1. Adjectival modifier (amod):** This camera has great zoom* parsed to ==> amod(zoom, great)\n",
    "<br> **2. \"And\" conjunct (conj and):** *This camera has great zoom and resolution* parsed to ==> conj and(zoom, resolution).\n",
    "<br> **3. Direct object (dobj):** I love the quality parsed to ==> dobj(love, quality).\n",
    "<br> **4. Noun compound modifier (compound):** *The battery life is not long* parsed to ==> compound(life, battery)*.\n",
    "<br> **5. Nominal subject (nsubj):** *The screen is wide* parsed to ==> nsubj(wide, screen).<br> \n",
    "<br> \n",
    "Of course, these syntactical relations can be improved further on by looking up more combined patterns but I have a gut feeling there are more combined patterns out there.<br>\n",
    "\n",
    "> **Step-4:** Link with Domain product aspects. \n",
    "\n",
    "> **Step-5:** Handel Aspect term with more than one token!\n",
    "\n",
    "> **Step-6:** Pruning the extracted patterns\n",
    "- As you can see in the above results, the pruning step is quite important, as the \"battery\", \"life\" are the most significant patterns to keep, the final ones. I wanted aspect phrases \"battery life\" from (\"battery life\", \"battery\", \"life\"). So I did redundant removal to the pruning step. This basically means eliminating the patterns which contain any other aspect. Like: (\"battery life\", \"battery\", \"life\") ==> \"battery life\"\n",
    "\n",
    "> **Step-7:** Conveart to BIO format \n",
    "![image.png](attachment:image.png)\n",
    "\n",
    "> **Step-8:** Evaluation"
   ]
  },
  {
   "cell_type": "markdown",
   "metadata": {},
   "source": [
    "# Implementation "
   ]
  },
  {
   "cell_type": "markdown",
   "metadata": {},
   "source": [
    "## Step-1: Parse train and test xml file and extract all the review text and aspect terms"
   ]
  },
  {
   "cell_type": "markdown",
   "metadata": {},
   "source": [
    "### Parse xml file "
   ]
  },
  {
   "cell_type": "code",
   "execution_count": 2,
   "metadata": {},
   "outputs": [],
   "source": [
    "def parse_xml(root):\n",
    "    all_aspectTerms = [] #only aspect terms \n",
    "    all_text_And_Aspect = [] #review with aspect terms\n",
    "\n",
    "    for sentences in root.findall('sentence'):\n",
    "        text = sentences.find('text').text\n",
    "        aspectTerms = sentences.find('aspectTerms')\n",
    "        asp = []\n",
    "        try: #Because, review text might not any aspect term\n",
    "            for neighbor in aspectTerms.iter('aspectTerm'):\n",
    "                asp1 = neighbor.attrib.get('term',\"\")\n",
    "                all_aspectTerms.append(asp1.lower())\n",
    "                asp.append(asp1)\n",
    "            all_text_And_Aspect.append((text,asp))\n",
    "        except:\n",
    "            all_text_And_Aspect.append((text,asp))\n",
    "\n",
    "\n",
    "    return (all_text_And_Aspect, list(set(all_aspectTerms)))  "
   ]
  },
  {
   "cell_type": "markdown",
   "metadata": {},
   "source": [
    "### Traning data"
   ]
  },
  {
   "cell_type": "code",
   "execution_count": 3,
   "metadata": {},
   "outputs": [
    {
     "name": "stdout",
     "output_type": "stream",
     "text": [
      "[('I charge it at night and skip taking the cord with me because of the good battery life.', ['cord', 'battery life']), ('I bought a HP Pavilion DV4-1222nr laptop and have had so many problems with the computer.', []), ('The tech guy then said the service center does not do 1-to-1 exchange and I have to direct my concern to the \"sales\" team, which is the retail shop which I bought my netbook from.', ['service center', '\"sales\" team', 'tech guy']), ('I investigated netbooks and saw the Toshiba NB305-N410BL.', []), ('The other day I had a presentation to do for a seminar at a large conference in town- lots of people, little time to prep and have to set up a computer to a projector, etc.', [])]\n",
      "['virus protection', 'commodity hardware', 'value', 'surf the web', 'screen brightness']\n"
     ]
    }
   ],
   "source": [
    "train_tree = ET.parse('Laptops_Train_v2.xml')\n",
    "train_root = train_tree.getroot()\n",
    "\n",
    "training_all_text_And_Aspect, training_all_aspectTerms = parse_xml(train_root)\n",
    "\n",
    "print (training_all_text_And_Aspect[0:5]) # format = (review text, [aspect trams,....])\n",
    "print (training_all_aspectTerms[0:5])# only aspect terms"
   ]
  },
  {
   "cell_type": "markdown",
   "metadata": {},
   "source": [
    "### Test data"
   ]
  },
  {
   "cell_type": "code",
   "execution_count": 4,
   "metadata": {},
   "outputs": [
    {
     "name": "stdout",
     "output_type": "stream",
     "text": [
      "[('Boot time is super fast, around anywhere from 35 seconds to 1 minute.', ['Boot time']), ('tech support would not fix the problem unless I bought your plan for $150 plus.', ['tech support']), ('but in resume this computer rocks!', []), ('Set up was easy.', ['Set up']), ('Did not enjoy the new Windows 8 and touchscreen functions.', ['Windows 8', 'touchscreen functions'])]\n",
      "['value', '8g of ram', 'battery cycle count', 'backlit keys', 'bluetooth interface']\n"
     ]
    }
   ],
   "source": [
    "test_tree = ET.parse('Laptops_Test_Gold.xml')\n",
    "test_root = test_tree.getroot()\n",
    "\n",
    "test_all_text_And_Aspect, test_all_aspectTerms = parse_xml(test_root)\n",
    "\n",
    "print (test_all_text_And_Aspect[0:5])\n",
    "print (test_all_aspectTerms[0:5])"
   ]
  },
  {
   "cell_type": "markdown",
   "metadata": {},
   "source": [
    "## Step-2: Create domain product aspect(train_aspect): Already given in training data"
   ]
  },
  {
   "cell_type": "code",
   "execution_count": 5,
   "metadata": {},
   "outputs": [],
   "source": [
    "all_aspet_terms = training_all_aspectTerms.copy()"
   ]
  },
  {
   "cell_type": "markdown",
   "metadata": {},
   "source": [
    "## Step-3: Extracting aspect terms using syntactic dependencies of words in a sentence.(only for test data)"
   ]
  },
  {
   "cell_type": "code",
   "execution_count": 6,
   "metadata": {},
   "outputs": [],
   "source": [
    "#import stanford core nlp parser\n",
    "from nltk.parse.corenlp import CoreNLPDependencyParser\n",
    "dep_parser = CoreNLPDependencyParser(url='http://localhost:9000')"
   ]
  },
  {
   "cell_type": "code",
   "execution_count": 33,
   "metadata": {},
   "outputs": [],
   "source": [
    "# This function use for syntactic dependencies finding and aspect extraction\n",
    "def get_aspect(test_text):\n",
    "    token = CoreNLPParser(url='http://localhost:9000')\n",
    "    aspect_term = []\n",
    "    parses = dep_parser.parse(token.tokenize(\" \".join(test_text.split(\".\"))))\n",
    "    syntactic_rules = [[(governor, dep, dependent) for governor, dep, dependent in parse.triples()] \\\n",
    "                         for parse in parses][0]\n",
    "    \n",
    "    back_up = []\n",
    "    for rule in syntactic_rules:\n",
    "        if rule[1] == 'dobj':\n",
    "            if (rule[0][1][0] == \"N\" or rule[0][1][0] == \"V\" ) and (rule[2][1][0] == \"J\" or rule[2][1][0] == \"R\" or rule[2][1][0] == \"V\"):\n",
    "                aspect_term.append(rule[0][0])\n",
    "            elif (rule[2][1][0] == \"N\" or rule[2][1][0] == \"V\") and (rule[0][1][0] == \"J\" or rule[0][1][0] == \"R\" or rule[0][1][0] == \"V\"):\n",
    "                aspect_term.append(rule[2][0])\n",
    "        elif rule[1] == 'nsubj':\n",
    "            fl=0\n",
    "            fl2 =0 \n",
    "            if (rule[0][1][0] == \"N\" or rule[0][1][0] == \"V\") and (rule[2][1][0] == \"J\" or rule[2][1][0] == \"R\" or rule[2][1][0] == \"V\" or rule[2][1][0] == \"N\"):\n",
    "                aspect_term.append(rule[0][0])\n",
    "                fl=1\n",
    "            elif (rule[2][1][0] == \"N\" or rule[2][1][0] == \"V\") and (rule[0][1][0] == \"J\" or rule[0][1][0] == \"R\" or rule[0][1][0] == \"V\" or rule[0][1][0] == \"N\"):\n",
    "                aspect_term.append(rule[2][0])\n",
    "                fl2=1\n",
    "            if rule[0][1][0] == \"N\" and fl == 0:\n",
    "                aspect_term.append(rule[0][0])\n",
    "            elif rule[2][1][0] == \"N\" and fl2 ==0:\n",
    "                aspect_term.append(rule[2][0])\n",
    "        elif rule[1] == 'csubj':\n",
    "            if (rule[0][1][0] == \"N\" or rule[0][1][0] == \"V\") and (rule[2][1][0] == \"J\" or rule[2][1][0] == \"R\" or rule[2][1][0] == \"V\"):\n",
    "                aspect_term.append(rule[0][0])\n",
    "            elif (rule[2][1][0] == \"N\" or rule[2][1][0] == \"V\") and (rule[0][1][0] == \"J\" or rule[0][1][0] == \"R\" or rule[0][1][0] == \"V\"):\n",
    "                aspect_term.append(rule[2][0])\n",
    "        elif rule[1] == 'nsubjpass':\n",
    "            fl=0\n",
    "            fl2 =0 \n",
    "            if (rule[0][1][0] == \"N\" or rule[0][1][0] == \"V\") and (rule[2][1][0] == \"J\" or rule[2][1][0] == \"R\" or rule[2][1][0] == \"V\" or rule[2][1][0] == \"N\"):\n",
    "                aspect_term.append(rule[0][0])\n",
    "                fl=1\n",
    "            elif (rule[2][1][0] == \"N\" or rule[2][1][0] == \"V\") and (rule[0][1][0] == \"J\" or rule[0][1][0] == \"R\" or rule[0][1][0] == \"V\" or rule[0][1][0] == \"N\"):\n",
    "                aspect_term.append(rule[2][0])\n",
    "                fl2=1\n",
    "            if rule[0][1][0] == \"N\" and fl == 0:\n",
    "                aspect_term.append(rule[0][0])\n",
    "            elif rule[2][1][0] == \"N\" and fl2 ==0:\n",
    "                aspect_term.append(rule[2][0])\n",
    "        elif rule[1] == 'amod':\n",
    "            if (rule[0][1][0] == \"N\" or rule[0][1][0] == \"V\") and (rule[2][1][0] == \"J\" or rule[2][1][0] == \"R\"):\n",
    "                aspect_term.append(rule[0][0])\n",
    "            elif (rule[2][1][0] == \"N\" or rule[2][1][0] == \"V\") and (rule[0][1][0] == \"J\" or rule[0][1][0] == \"R\"):\n",
    "                aspect_term.append(rule[2][0])\n",
    "        elif rule[1] == 'nmod':\n",
    "            fl=0\n",
    "            fl2 =0 \n",
    "            if (rule[0][1][0] == \"N\" or rule[0][1][0] == \"V\") and (rule[2][1][0] == \"J\" or rule[2][1][0] == \"R\" or rule[2][1][0] == \"V\"):\n",
    "                aspect_term.append(rule[0][0])\n",
    "                fl=1\n",
    "            elif (rule[2][1][0] == \"N\" or rule[2][1][0] == \"V\") and (rule[0][1][0] == \"J\" or rule[0][1][0] == \"R\" or rule[0][1][0] == \"V\"):\n",
    "                aspect_term.append(rule[2][0])\n",
    "            if rule[0][1][0] == \"N\" and fl == 0:\n",
    "                aspect_term.append(rule[0][0])\n",
    "                fl2=1\n",
    "            elif rule[2][1][0] == \"N\" and fl2 ==0:\n",
    "                aspect_term.append(rule[2][0])\n",
    "            back_up.append(rule)\n",
    "        elif rule[1] == 'nmod:tmod':\n",
    "            if (rule[0][1][0] == \"N\") and (rule[2][1][0] == \"J\" or rule[2][1][0] == \"R\" or rule[2][1][0] == \"V\"):\n",
    "                aspect_term.append(rule[0][0])\n",
    "            elif (rule[2][1][0] == \"N\") and (rule[0][1][0] == \"J\" or rule[0][1][0] == \"R\" or rule[0][1][0] == \"V\"):\n",
    "                aspect_term.append(rule[2][0])\n",
    "        elif rule[1] == 'conj':\n",
    "            if (rule[0][1][0] == \"N\" or rule[0][1][0] == \"V\") and (rule[2][1][0] == \"J\" or rule[2][1][0] == \"R\"):\n",
    "                aspect_term.append(rule[0][0])\n",
    "            elif (rule[2][1][0] == \"N\" or rule[2][1][0] == \"V\") and (rule[0][1][0] == \"J\" or rule[0][1][0] == \"R\"):\n",
    "                aspect_term.append(rule[2][0])\n",
    "            back_up.append(rule)\n",
    "        elif rule[1] == 'xcomp':\n",
    "            if (rule[0][1][0] == \"V\") and (rule[2][1][0] == \"J\" or rule[2][1][0] == \"R\"):\n",
    "                aspect_term.append(rule[0][0])\n",
    "            elif (rule[2][1][0] == \"V\") and (rule[0][1][0] == \"J\" or rule[0][1][0] == \"R\"):\n",
    "                aspect_term.append(rule[2][0])\n",
    "        elif rule[1] == 'ccomp':\n",
    "            if (rule[0][1][0] == \"V\") and (rule[2][1][0] == \"J\" or rule[2][1][0] == \"R\"):\n",
    "                aspect_term.append(rule[0][0])\n",
    "            elif (rule[2][1][0] == \"V\") and (rule[0][1][0] == \"J\" or rule[0][1][0] == \"R\"):\n",
    "                aspect_term.append(rule[2][0])\n",
    "        elif rule[1] == 'compound':\n",
    "            back_up.append(rule)\n",
    "        elif rule[1] == 'dep':\n",
    "            if (rule[2][1][0] == \"V\" or rule[2][1][0] == \"N\"):\n",
    "                aspect_term.append(rule[0][0])\n",
    "            back_up.append(rule)\n",
    "        elif rule[1] == 'neg':\n",
    "            if (rule[2][1][0] == \"N\"):\n",
    "                aspect_term.append(rule[2][0])\n",
    "            elif (rule[0][1][0] == \"N\"):\n",
    "                aspect_term.append(rule[0][0])\n",
    "        \n",
    "        for i in range(3):\n",
    "            for r in back_up:\n",
    "                if (r[0][0] in aspect_term) and (r[2][1][0] == \"N\" or r[2][1][0] == \"V\"):\n",
    "                    aspect_term.append(r[2][0])\n",
    "                elif (r[2][0] in aspect_term) and (r[0][1][0] == \"N\" or r[0][1][0] == \"V\"):\n",
    "                    aspect_term.append(r[0][0])\n",
    "    return (list(set(aspect_term)),syntactic_rules)"
   ]
  },
  {
   "cell_type": "markdown",
   "metadata": {},
   "source": [
    "## Step-4: Filter with Domain product aspects. "
   ]
  },
  {
   "cell_type": "code",
   "execution_count": 8,
   "metadata": {},
   "outputs": [],
   "source": [
    "def filter_asp(aspect, all_aspet_terms):\n",
    "    new_aspect = []\n",
    "    for asp in aspect:\n",
    "        for train_aspect in all_aspet_terms:\n",
    "            if asp.lower() == train_aspect.lower():\n",
    "                new_aspect.append(asp)\n",
    "    return list(set(new_aspect))"
   ]
  },
  {
   "cell_type": "markdown",
   "metadata": {},
   "source": [
    "## Step-5: Handel Aspect term with more than one token!"
   ]
  },
  {
   "cell_type": "code",
   "execution_count": 36,
   "metadata": {},
   "outputs": [],
   "source": [
    "from nltk.parse import CoreNLPParser\n",
    "def befor_nn(test_text,find_aspects):\n",
    "    pos_tagger = CoreNLPParser(url='http://localhost:9000', tagtype='pos')\n",
    "    txt_pos = list(pos_tagger.tag(test_text.split()))\n",
    "    \n",
    "    for i in range(2):\n",
    "        new_aspect = []\n",
    "        for asp in find_aspects:\n",
    "            if len(asp.split())==1:\n",
    "                fl=0\n",
    "                for i in range(len(txt_pos)):\n",
    "                    if asp.lower() in txt_pos[i][0].lower():\n",
    "                        if i>0 and txt_pos[i-1][1][0]==\"N\":\n",
    "                            new_aspect.append(txt_pos[i-1][0]+\" \"+asp)\n",
    "                            fl=1\n",
    "                            break\n",
    "                        elif i<len(txt_pos)-1 and (txt_pos[i+1][1][0]==\"N\" or txt_pos[i+1][1]==\"CD\"):\n",
    "                            new_aspect.append(asp+\" \"+txt_pos[i+1][0])\n",
    "                            fl=1\n",
    "                            break\n",
    "                if fl==0:\n",
    "                    new_aspect.append(asp)\n",
    "            else:\n",
    "                new_asp = asp.split()\n",
    "                fl=0\n",
    "                s1= \"\"\n",
    "                s2 = \"\"\n",
    "                for i in range(len(txt_pos)):\n",
    "                    if new_asp[1].lower() in txt_pos[i][0].lower():\n",
    "                        if i<len(txt_pos)-1 and (txt_pos[i+1][1][0]==\"N\" or txt_pos[i+1][1]==\"CD\"):\n",
    "                            s1 = new_asp[1]+\" \"+txt_pos[i+1][0]\n",
    "                            fl=1\n",
    "                           \n",
    "                    if new_asp[0].lower() in txt_pos[i][0].lower():\n",
    "                        if i>0 and (txt_pos[i-1][1][0]==\"N\" or txt_pos[i-1][1]==\"VB\"):\n",
    "                            s2 = txt_pos[i-1][0]+\" \"+new_asp[0]\n",
    "                            fl=1\n",
    "                if fl==0:\n",
    "                    new_aspect.append(asp)\n",
    "                elif s1==\"\" and s2 !=\"\":\n",
    "                    new_aspect.append(s2+\" \"+new_asp[1])\n",
    "                elif s1!=\"\" and s2==\"\":\n",
    "                    new_aspect.append(new_asp[0]+\" \"+s1)\n",
    "                else:\n",
    "                    new_aspect.append(s2+\" \"+s1)\n",
    "        find_aspects = new_aspect\n",
    "    return (list(set(find_aspects)),txt_pos)"
   ]
  },
  {
   "cell_type": "markdown",
   "metadata": {},
   "source": [
    "## Step-6: Pruning the extracted patterns"
   ]
  },
  {
   "cell_type": "code",
   "execution_count": 10,
   "metadata": {},
   "outputs": [],
   "source": [
    "# As expleain in Step-6, this is the implementation of that idea\n",
    "def aspect_purning(find_aspects):\n",
    "    return_list = []\n",
    "    for asp in find_aspects:\n",
    "        fl=0\n",
    "        for asp2 in find_aspects:\n",
    "            if (asp != asp2) and (asp in asp2):\n",
    "                fl=1\n",
    "                break\n",
    "        if fl==0:\n",
    "            return_list.append(asp)\n",
    "    return return_list  "
   ]
  },
  {
   "cell_type": "markdown",
   "metadata": {},
   "source": [
    "### From here call above 4 function for each test data text "
   ]
  },
  {
   "cell_type": "code",
   "execution_count": 37,
   "metadata": {},
   "outputs": [
    {
     "data": {
      "text/plain": [
       "[('Boot time is super fast, around anywhere from 35 seconds to 1 minute.',\n",
       "  ['Boot time'],\n",
       "  ['Boot time']),\n",
       " ('tech support would not fix the problem unless I bought your plan for $150 plus.',\n",
       "  ['tech support'],\n",
       "  ['tech support']),\n",
       " ('but in resume this computer rocks!', [], []),\n",
       " ('Set up was easy.', ['Set up'], []),\n",
       " ('Did not enjoy the new Windows 8 and touchscreen functions.',\n",
       "  ['Windows 8', 'touchscreen functions'],\n",
       "  ['Windows 8', 'touchscreen functions']),\n",
       " (\"I expected so as it's an Apple product, but I was glad to see my expectations exceeded, this is THE laptop to buy right now.\",\n",
       "  [],\n",
       "  []),\n",
       " (\"Other than not being a fan of click pads (industry standard these days) and the lousy internal speakers, it's hard for me to find things about this notebook I don't like, especially considering the $350 price tag.\",\n",
       "  ['internal speakers', 'price tag', 'click pads'],\n",
       "  ['speakers', 'price tag', 'fan']),\n",
       " ('excellent in every way.', [], []),\n",
       " ('No installation disk (DVD) is included.', ['installation disk (DVD)'], []),\n",
       " (\"It's fast, light, and simple to use.\", ['use'], ['use'])]"
      ]
     },
     "execution_count": 37,
     "metadata": {},
     "output_type": "execute_result"
    }
   ],
   "source": [
    "test_text_aspects_woth_pridect = []\n",
    "fl = 0\n",
    "for test_text_aspect in test_all_text_And_Aspect:\n",
    "    find_aspects = []\n",
    "    fl +=1\n",
    "    aspect,rules = get_aspect(test_text_aspect[0].replace(\"!\", \"\"))# using syntactic dependencies aspect extraction\n",
    "    \n",
    "    find_aspects = filter_asp(aspect,all_aspet_terms)#link with domain product aspect\n",
    "    \n",
    "    find_aspects,txt_pos = befor_nn(test_text_aspect[0],find_aspects)#Handel Aspect term with more than one token\n",
    "    \n",
    "    find_aspects = aspect_purning(find_aspects)#aspect purining\n",
    "    test_text_aspects_woth_pridect.append((test_text_aspect[0],test_text_aspect[1],find_aspects))\n",
    "test_text_aspects_woth_pridect[0:10]"
   ]
  },
  {
   "cell_type": "markdown",
   "metadata": {},
   "source": [
    "## Step-7: Conveart to BIO format"
   ]
  },
  {
   "cell_type": "code",
   "execution_count": 38,
   "metadata": {},
   "outputs": [],
   "source": [
    "def pridect_class(test_text, aspect_terms, active):\n",
    "    all_word = {}\n",
    "    split_test = test_text.split()\n",
    "    for word in split_test:\n",
    "        all_word[word] = \"O\"\n",
    "    if len(aspect_terms)>0:\n",
    "        for aspect in aspect_terms:\n",
    "            fl=0\n",
    "            for asp in aspect.split():\n",
    "                #print (asp)\n",
    "                #if active == 0:\n",
    "                for word in split_test:\n",
    "                    #print (word)\n",
    "                    if asp.lower() in word.lower():\n",
    "                        #print (asp,word)\n",
    "                        asp = word\n",
    "                        break\n",
    "                if fl==0:            \n",
    "                    all_word[asp] = \"B\" \n",
    "                    fl = 1\n",
    "                else:\n",
    "                    all_word[asp] = \"I\"\n",
    "    li = []\n",
    "    for word, cls in all_word.items():\n",
    "        li.append((word,cls))\n",
    "    if active == 1:\n",
    "        labels = ['word', 'class']\n",
    "    else:\n",
    "        labels = ['word', 'pred_class']\n",
    "    df = pd.DataFrame.from_records(li, columns=labels)\n",
    "    return df,len(li)"
   ]
  },
  {
   "cell_type": "code",
   "execution_count": null,
   "metadata": {},
   "outputs": [],
   "source": []
  },
  {
   "cell_type": "code",
   "execution_count": 39,
   "metadata": {},
   "outputs": [
    {
     "data": {
      "text/html": [
       "<div>\n",
       "<style scoped>\n",
       "    .dataframe tbody tr th:only-of-type {\n",
       "        vertical-align: middle;\n",
       "    }\n",
       "\n",
       "    .dataframe tbody tr th {\n",
       "        vertical-align: top;\n",
       "    }\n",
       "\n",
       "    .dataframe thead th {\n",
       "        text-align: right;\n",
       "    }\n",
       "</style>\n",
       "<table border=\"1\" class=\"dataframe\">\n",
       "  <thead>\n",
       "    <tr style=\"text-align: right;\">\n",
       "      <th></th>\n",
       "      <th>word</th>\n",
       "      <th>class</th>\n",
       "      <th>pred_class</th>\n",
       "    </tr>\n",
       "  </thead>\n",
       "  <tbody>\n",
       "    <tr>\n",
       "      <th>0</th>\n",
       "      <td>Boot</td>\n",
       "      <td>B</td>\n",
       "      <td>B</td>\n",
       "    </tr>\n",
       "    <tr>\n",
       "      <th>1</th>\n",
       "      <td>time</td>\n",
       "      <td>I</td>\n",
       "      <td>I</td>\n",
       "    </tr>\n",
       "    <tr>\n",
       "      <th>2</th>\n",
       "      <td>is</td>\n",
       "      <td>O</td>\n",
       "      <td>O</td>\n",
       "    </tr>\n",
       "    <tr>\n",
       "      <th>3</th>\n",
       "      <td>super</td>\n",
       "      <td>O</td>\n",
       "      <td>O</td>\n",
       "    </tr>\n",
       "    <tr>\n",
       "      <th>4</th>\n",
       "      <td>fast,</td>\n",
       "      <td>O</td>\n",
       "      <td>O</td>\n",
       "    </tr>\n",
       "  </tbody>\n",
       "</table>\n",
       "</div>"
      ],
      "text/plain": [
       "    word class pred_class\n",
       "0   Boot     B          B\n",
       "1   time     I          I\n",
       "2     is     O          O\n",
       "3  super     O          O\n",
       "4  fast,     O          O"
      ]
     },
     "execution_count": 39,
     "metadata": {},
     "output_type": "execute_result"
    }
   ],
   "source": [
    "## pridect class to every word in each review in test set\n",
    "all_review_word_to_class = pd.DataFrame()\n",
    "fl = 0\n",
    "for line in test_text_aspects_woth_pridect:\n",
    "    fl +=1\n",
    "    #print (fl)\n",
    "    original_word_class,len1 = pridect_class(line[0],line[1],1)# active = 1(original) \n",
    "    \n",
    "    predict_word_class,len2 = pridect_class(line[0],line[2],0)# active = 0 (prodict)\n",
    "    if len1!=len2:\n",
    "        print (len1,len2,fl)\n",
    "    if fl==0:\n",
    "        print (original_word_class,line[1])\n",
    "        print (predict_word_class,line[2])\n",
    "        break\n",
    "    join_both = pd.merge(original_word_class,predict_word_class, on='word', how='inner')\n",
    "    \n",
    "    all_review_word_to_class = pd.concat([all_review_word_to_class,join_both])\n",
    "    \n",
    "all_review_word_to_class.head()"
   ]
  },
  {
   "cell_type": "code",
   "execution_count": 40,
   "metadata": {},
   "outputs": [
    {
     "name": "stdout",
     "output_type": "stream",
     "text": [
      "class O =  8714\n",
      "class B =  639\n",
      "class I =  393\n"
     ]
    }
   ],
   "source": [
    "print ('class O = ', all_review_word_to_class[all_review_word_to_class['class']=='O']['word'].count())\n",
    "print ('class B = ', all_review_word_to_class[all_review_word_to_class['class']=='B']['word'].count())\n",
    "print ('class I = ', all_review_word_to_class[all_review_word_to_class['class']=='I']['word'].count())"
   ]
  },
  {
   "cell_type": "code",
   "execution_count": 41,
   "metadata": {},
   "outputs": [
    {
     "data": {
      "text/html": [
       "<div>\n",
       "<style scoped>\n",
       "    .dataframe tbody tr th:only-of-type {\n",
       "        vertical-align: middle;\n",
       "    }\n",
       "\n",
       "    .dataframe tbody tr th {\n",
       "        vertical-align: top;\n",
       "    }\n",
       "\n",
       "    .dataframe thead th {\n",
       "        text-align: right;\n",
       "    }\n",
       "</style>\n",
       "<table border=\"1\" class=\"dataframe\">\n",
       "  <thead>\n",
       "    <tr style=\"text-align: right;\">\n",
       "      <th></th>\n",
       "      <th>word</th>\n",
       "      <th>class</th>\n",
       "      <th>pred_class</th>\n",
       "    </tr>\n",
       "  </thead>\n",
       "  <tbody>\n",
       "    <tr>\n",
       "      <th>5</th>\n",
       "      <td>fan</td>\n",
       "      <td>O</td>\n",
       "      <td>B</td>\n",
       "    </tr>\n",
       "    <tr>\n",
       "      <th>8</th>\n",
       "      <td>charging.</td>\n",
       "      <td>O</td>\n",
       "      <td>B</td>\n",
       "    </tr>\n",
       "    <tr>\n",
       "      <th>6</th>\n",
       "      <td>BRAND</td>\n",
       "      <td>O</td>\n",
       "      <td>B</td>\n",
       "    </tr>\n",
       "    <tr>\n",
       "      <th>13</th>\n",
       "      <td>looking</td>\n",
       "      <td>O</td>\n",
       "      <td>B</td>\n",
       "    </tr>\n",
       "    <tr>\n",
       "      <th>2</th>\n",
       "      <td>looking</td>\n",
       "      <td>O</td>\n",
       "      <td>B</td>\n",
       "    </tr>\n",
       "  </tbody>\n",
       "</table>\n",
       "</div>"
      ],
      "text/plain": [
       "         word class pred_class\n",
       "5         fan     O          B\n",
       "8   charging.     O          B\n",
       "6       BRAND     O          B\n",
       "13    looking     O          B\n",
       "2     looking     O          B"
      ]
     },
     "execution_count": 41,
     "metadata": {},
     "output_type": "execute_result"
    }
   ],
   "source": [
    "all_review_word_to_class[(all_review_word_to_class['class']=='O')&\\\n",
    "                        (all_review_word_to_class['pred_class']=='B')].head()"
   ]
  },
  {
   "cell_type": "markdown",
   "metadata": {},
   "source": [
    "## Evaluation"
   ]
  },
  {
   "cell_type": "code",
   "execution_count": 44,
   "metadata": {},
   "outputs": [
    {
     "name": "stdout",
     "output_type": "stream",
     "text": [
      "[[ 412    9  218]\n",
      " [  70  170  153]\n",
      " [  91   36 8587]]\n",
      "===============================================================\n",
      "              precision    recall  f1-score   support\n",
      "\n",
      "     class B       0.72      0.64      0.68       639\n",
      "     class I       0.79      0.43      0.56       393\n",
      "     class O       0.96      0.99      0.97      8714\n",
      "\n",
      "   micro avg       0.94      0.94      0.94      9746\n",
      "   macro avg       0.82      0.69      0.74      9746\n",
      "weighted avg       0.94      0.94      0.94      9746\n",
      "\n"
     ]
    }
   ],
   "source": [
    "from sklearn.metrics import confusion_matrix\n",
    "from sklearn.metrics import classification_report\n",
    "from sklearn.metrics import f1_score\n",
    "print (confusion_matrix(all_review_word_to_class['class'].values, \\\n",
    "                 all_review_word_to_class['pred_class'].values))\n",
    "print( \"===============================================================\")\n",
    "\n",
    "target_names = ['class B', 'class I', 'class O']\n",
    "print(classification_report(all_review_word_to_class['class'].values, \\\n",
    "                 all_review_word_to_class['pred_class'].values, target_names=target_names))"
   ]
  },
  {
   "cell_type": "code",
   "execution_count": null,
   "metadata": {},
   "outputs": [],
   "source": [
    "9,223,249,273,293, 339,351,486,523,545,569,595"
   ]
  }
 ],
 "metadata": {
  "kernelspec": {
   "display_name": "Python 2",
   "language": "python",
   "name": "python2"
  },
  "language_info": {
   "codemirror_mode": {
    "name": "ipython",
    "version": 3
   },
   "file_extension": ".py",
   "mimetype": "text/x-python",
   "name": "python",
   "nbconvert_exporter": "python",
   "pygments_lexer": "ipython3",
   "version": "3.6.5"
  }
 },
 "nbformat": 4,
 "nbformat_minor": 2
}
